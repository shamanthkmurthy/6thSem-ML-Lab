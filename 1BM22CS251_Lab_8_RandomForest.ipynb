{
  "nbformat": 4,
  "nbformat_minor": 0,
  "metadata": {
    "colab": {
      "provenance": []
    },
    "kernelspec": {
      "name": "python3",
      "display_name": "Python 3"
    },
    "language_info": {
      "name": "python"
    }
  },
  "cells": [
    {
      "cell_type": "code",
      "source": [
        "import pandas as pd\n",
        "import numpy as np\n",
        "from sklearn.tree import DecisionTreeClassifier\n",
        "from sklearn.model_selection import train_test_split\n",
        "from sklearn.metrics import accuracy_score, classification_report\n",
        "from collections import Counter\n",
        "import random\n",
        "\n",
        "# Load data\n",
        "df = pd.read_csv('/content/IRIS.csv')\n",
        "X = df.drop('species', axis=1).values\n",
        "y = df['species'].values\n",
        "\n",
        "# Split the dataset\n",
        "X_train, X_test, y_train, y_test = train_test_split(X, y, test_size=0.2, random_state=42)\n",
        "\n",
        "# Random Forest parameters\n",
        "n_trees = 10\n",
        "max_features = int(np.sqrt(X.shape[1]))  # commonly used\n",
        "tree_list = []\n",
        "\n",
        "# Train each tree on a bootstrapped sample\n",
        "for _ in range(n_trees):\n",
        "    # Bootstrap sampling\n",
        "    indices = np.random.choice(len(X_train), len(X_train), replace=True)\n",
        "    X_sample = X_train[indices]\n",
        "    y_sample = y_train[indices]\n",
        "\n",
        "    # Select random subset of features\n",
        "    feature_indices = np.random.choice(X.shape[1], max_features, replace=False)\n",
        "    tree = DecisionTreeClassifier()\n",
        "    tree.fit(X_sample[:, feature_indices], y_sample)\n",
        "    tree_list.append((tree, feature_indices))\n",
        "\n",
        "# Predict function with majority vote\n",
        "def predict_forest(X):\n",
        "    all_preds = []\n",
        "    for x in X:\n",
        "        votes = []\n",
        "        for tree, f_idx in tree_list:\n",
        "            pred = tree.predict([x[f_idx]])[0]\n",
        "            votes.append(pred)\n",
        "        # Majority vote\n",
        "        majority_vote = Counter(votes).most_common(1)[0][0]\n",
        "        all_preds.append(majority_vote)\n",
        "    return np.array(all_preds)\n",
        "\n",
        "# Make predictions\n",
        "y_pred = predict_forest(X_test)\n",
        "\n",
        "# Evaluate\n",
        "print(\"Accuracy:\", accuracy_score(y_test, y_pred))\n",
        "print(\"Classification Report:\\n\", classification_report(y_test, y_pred))\n"
      ],
      "metadata": {
        "colab": {
          "base_uri": "https://localhost:8080/"
        },
        "id": "MfBEuwz3hGPQ",
        "outputId": "9c963f60-916e-40b2-fddc-e32c4d2ccd56"
      },
      "execution_count": 2,
      "outputs": [
        {
          "output_type": "stream",
          "name": "stdout",
          "text": [
            "Accuracy: 1.0\n",
            "Classification Report:\n",
            "                  precision    recall  f1-score   support\n",
            "\n",
            "    Iris-setosa       1.00      1.00      1.00        10\n",
            "Iris-versicolor       1.00      1.00      1.00         9\n",
            " Iris-virginica       1.00      1.00      1.00        11\n",
            "\n",
            "       accuracy                           1.00        30\n",
            "      macro avg       1.00      1.00      1.00        30\n",
            "   weighted avg       1.00      1.00      1.00        30\n",
            "\n"
          ]
        }
      ]
    }
  ]
}