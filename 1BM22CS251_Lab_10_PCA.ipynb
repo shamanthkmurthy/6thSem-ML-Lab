{
  "nbformat": 4,
  "nbformat_minor": 0,
  "metadata": {
    "colab": {
      "provenance": []
    },
    "kernelspec": {
      "name": "python3",
      "display_name": "Python 3"
    },
    "language_info": {
      "name": "python"
    }
  },
  "cells": [
    {
      "cell_type": "code",
      "execution_count": 1,
      "metadata": {
        "colab": {
          "base_uri": "https://localhost:8080/"
        },
        "id": "0Tvb6fOGGZlB",
        "outputId": "5b28b2f2-1e98-4af0-8589-425b4f2010c7"
      },
      "outputs": [
        {
          "output_type": "stream",
          "name": "stdout",
          "text": [
            "Accuracy before PCA:\n",
            "SVM: 0.8804\n",
            "Logistic Regression: 0.8533\n",
            "Random Forest: 0.8913\n",
            "\n",
            "Accuracy after PCA:\n",
            "SVM: 0.8804\n",
            "Logistic Regression: 0.8533\n",
            "Random Forest: 0.8587\n"
          ]
        }
      ],
      "source": [
        "import pandas as pd\n",
        "from sklearn.preprocessing import LabelEncoder, StandardScaler\n",
        "from sklearn.model_selection import train_test_split\n",
        "from sklearn.decomposition import PCA\n",
        "from sklearn.svm import SVC\n",
        "from sklearn.linear_model import LogisticRegression\n",
        "from sklearn.ensemble import RandomForestClassifier\n",
        "from sklearn.metrics import accuracy_score\n",
        "\n",
        "# Load dataset\n",
        "df = pd.read_csv(\"/content/heart.csv\")\n",
        "\n",
        "# Split features and target\n",
        "X = df.drop(\"HeartDisease\", axis=1)\n",
        "y = df[\"HeartDisease\"]\n",
        "\n",
        "# Identify categorical columns\n",
        "categorical_cols = X.select_dtypes(include=['object']).columns.tolist()\n",
        "binary_cols = ['Sex', 'ExerciseAngina']\n",
        "multi_cat_cols = list(set(categorical_cols) - set(binary_cols))\n",
        "\n",
        "# Label encode binary columns\n",
        "label_encoders = {col: LabelEncoder() for col in binary_cols}\n",
        "for col in binary_cols:\n",
        "    X[col] = label_encoders[col].fit_transform(X[col])\n",
        "\n",
        "# One-hot encode remaining categorical columns\n",
        "X = pd.get_dummies(X, columns=multi_cat_cols)\n",
        "\n",
        "# Scale the data\n",
        "scaler = StandardScaler()\n",
        "X_scaled = scaler.fit_transform(X)\n",
        "\n",
        "# Split into train and test sets\n",
        "X_train, X_test, y_train, y_test = train_test_split(X_scaled, y, test_size=0.2, random_state=42)\n",
        "\n",
        "# Initialize models\n",
        "models = {\n",
        "    \"SVM\": SVC(),\n",
        "    \"Logistic Regression\": LogisticRegression(max_iter=1000),\n",
        "    \"Random Forest\": RandomForestClassifier()\n",
        "}\n",
        "\n",
        "# Train and evaluate before PCA\n",
        "print(\"Accuracy before PCA:\")\n",
        "for name, model in models.items():\n",
        "    model.fit(X_train, y_train)\n",
        "    y_pred = model.predict(X_test)\n",
        "    print(f\"{name}: {accuracy_score(y_test, y_pred):.4f}\")\n",
        "\n",
        "# Apply PCA to retain 95% variance\n",
        "pca = PCA(n_components=0.95)\n",
        "X_pca = pca.fit_transform(X_scaled)\n",
        "X_train_pca, X_test_pca = train_test_split(X_pca, test_size=0.2, random_state=42)\n",
        "\n",
        "# Train and evaluate after PCA\n",
        "print(\"\\nAccuracy after PCA:\")\n",
        "for name, model in models.items():\n",
        "    model.fit(X_train_pca, y_train)\n",
        "    y_pred_pca = model.predict(X_test_pca)\n",
        "    print(f\"{name}: {accuracy_score(y_test, y_pred_pca):.4f}\")\n"
      ]
    }
  ]
}