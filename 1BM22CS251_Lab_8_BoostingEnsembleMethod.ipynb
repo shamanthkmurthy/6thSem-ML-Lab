{
  "nbformat": 4,
  "nbformat_minor": 0,
  "metadata": {
    "colab": {
      "provenance": []
    },
    "kernelspec": {
      "name": "python3",
      "display_name": "Python 3"
    },
    "language_info": {
      "name": "python"
    }
  },
  "cells": [
    {
      "cell_type": "code",
      "execution_count": null,
      "metadata": {
        "colab": {
          "base_uri": "https://localhost:8080/"
        },
        "id": "-roQWKA-S6jM",
        "outputId": "7eed5035-9ede-4876-dad6-ff68bbebc6f1"
      },
      "outputs": [
        {
          "output_type": "stream",
          "name": "stdout",
          "text": [
            "Accuracy: 0.93\n",
            "Classification Report:\n",
            "                  precision    recall  f1-score   support\n",
            "\n",
            "    Iris-setosa       1.00      1.00      1.00        10\n",
            "Iris-versicolor       0.89      0.89      0.89         9\n",
            " Iris-virginica       0.91      0.91      0.91        11\n",
            "\n",
            "       accuracy                           0.93        30\n",
            "      macro avg       0.93      0.93      0.93        30\n",
            "   weighted avg       0.93      0.93      0.93        30\n",
            "\n"
          ]
        }
      ],
      "source": [
        "import pandas as pd\n",
        "from sklearn.model_selection import train_test_split\n",
        "from sklearn.preprocessing import LabelEncoder\n",
        "from sklearn.ensemble import AdaBoostClassifier\n",
        "from sklearn.metrics import accuracy_score, classification_report\n",
        "\n",
        "# Load dataset\n",
        "df = pd.read_csv(\"/content/Iris.csv\")\n",
        "\n",
        "# Drop the 'Id' column\n",
        "df.drop('Id', axis=1, inplace=True)\n",
        "\n",
        "# Encode target labels\n",
        "label_encoder = LabelEncoder()\n",
        "df['Species'] = label_encoder.fit_transform(df['Species'])\n",
        "\n",
        "# Split features and target\n",
        "X = df.drop('Species', axis=1)\n",
        "y = df['Species']\n",
        "\n",
        "# Train-test split\n",
        "X_train, X_test, y_train, y_test = train_test_split(X, y, test_size=0.2, random_state=42)\n",
        "\n",
        "# Initialize and train AdaBoost classifier\n",
        "model = AdaBoostClassifier(n_estimators=50, random_state=42)\n",
        "model.fit(X_train, y_train)\n",
        "\n",
        "# Make predictions\n",
        "y_pred = model.predict(X_test)\n",
        "\n",
        "# Evaluate the model\n",
        "accuracy = accuracy_score(y_test, y_pred)\n",
        "report = classification_report(y_test, y_pred, target_names=label_encoder.classes_)\n",
        "\n",
        "print(f\"Accuracy: {accuracy:.2f}\")\n",
        "print(\"Classification Report:\\n\", report)\n"
      ]
    },
    {
      "cell_type": "code",
      "source": [
        "import pandas as pd\n",
        "from sklearn.model_selection import train_test_split\n",
        "from sklearn.ensemble import AdaBoostClassifier\n",
        "from sklearn.metrics import accuracy_score\n",
        "import matplotlib.pyplot as plt\n",
        "from sklearn.metrics import confusion_matrix\n",
        "# Load the dataset\n",
        "df = pd.read_csv(\"/content/income (1).csv\")  # Change path if needed\n",
        "\n",
        "# Separate features and target\n",
        "X = df.drop(\"income_level\", axis=1)\n",
        "y = df[\"income_level\"]\n",
        "\n",
        "# Train-test split\n",
        "X_train, X_test, y_train, y_test = train_test_split(X, y, test_size=0.2, random_state=42)\n",
        "\n",
        "# Step 1: Base AdaBoost with 10 estimators\n",
        "base_model = AdaBoostClassifier(n_estimators=10, random_state=42)\n",
        "base_model.fit(X_train, y_train)\n",
        "base_pred = base_model.predict(X_test)\n",
        "base_accuracy = accuracy_score(y_test, base_pred)\n",
        "print(f\"Initial Accuracy with 10 estimators: {base_accuracy:.4f}\")\n",
        "\n",
        "# Step 2: Fine-tuning by varying number of estimators\n",
        "estimator_range = range(10, 101, 10)\n",
        "scores = []\n",
        "\n",
        "for n in estimator_range:\n",
        "    model = AdaBoostClassifier(n_estimators=n, random_state=42)\n",
        "    model.fit(X_train, y_train)\n",
        "    y_pred = model.predict(X_test)\n",
        "    acc = accuracy_score(y_test, y_pred)\n",
        "    scores.append(acc)\n",
        "\n",
        "# Best score and corresponding n_estimators\n",
        "best_score = max(scores)\n",
        "best_n = estimator_range[scores.index(best_score)]\n",
        "print(f\"Best Accuracy: {best_score:.4f} using {best_n} estimators\")\n",
        "cf = confusion_matrix(y_test, y_pred)\n",
        "print(cf)\n",
        "\n"
      ],
      "metadata": {
        "colab": {
          "base_uri": "https://localhost:8080/"
        },
        "id": "vtMk5LJ2c8D8",
        "outputId": "0a390792-6dbd-4fe9-be18-4982ff05b567"
      },
      "execution_count": null,
      "outputs": [
        {
          "output_type": "stream",
          "name": "stdout",
          "text": [
            "Initial Accuracy with 10 estimators: 0.8182\n",
            "Best Accuracy: 0.8335 using 80 estimators\n",
            "[[7117  297]\n",
            " [1336 1019]]\n"
          ]
        }
      ]
    }
  ]
}